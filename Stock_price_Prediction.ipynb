{
  "nbformat": 4,
  "nbformat_minor": 0,
  "metadata": {
    "colab": {
      "name": "Stock_price_Prediction.ipynb",
      "provenance": [],
      "collapsed_sections": [],
      "authorship_tag": "ABX9TyPCDw8iAZDBT2gDKhzX1zOt",
      "include_colab_link": true
    },
    "kernelspec": {
      "name": "python3",
      "display_name": "Python 3"
    },
    "language_info": {
      "name": "python"
    }
  },
  "cells": [
    {
      "cell_type": "markdown",
      "metadata": {
        "id": "view-in-github",
        "colab_type": "text"
      },
      "source": [
        "<a href=\"https://colab.research.google.com/github/loicmarx/datascience-projects/blob/main/Stock_price_Prediction.ipynb\" target=\"_parent\"><img src=\"https://colab.research.google.com/assets/colab-badge.svg\" alt=\"Open In Colab\"/></a>"
      ]
    },
    {
      "cell_type": "markdown",
      "metadata": {
        "id": "tXduel0lEtww"
      },
      "source": [
        "This program use an artificial recurrent neural network called Long Short Term Memory (LSTM) to predict\n",
        "the closing stock price of a corporation (Apple Inc.) using the past 60 day stock price. The data used provided from the yahoo website."
      ]
    },
    {
      "cell_type": "code",
      "metadata": {
        "colab": {
          "base_uri": "https://localhost:8080/"
        },
        "id": "rCiq9QsGJ8dM",
        "outputId": "93a8959b-0eb1-41cd-f764-73d9ccb35699"
      },
      "source": [
        "!pip install yfinance"
      ],
      "execution_count": 5,
      "outputs": [
        {
          "output_type": "stream",
          "name": "stdout",
          "text": [
            "Collecting yfinance\n",
            "  Downloading yfinance-0.1.64.tar.gz (26 kB)\n",
            "Requirement already satisfied: pandas>=0.24 in /usr/local/lib/python3.7/dist-packages (from yfinance) (1.1.5)\n",
            "Requirement already satisfied: numpy>=1.15 in /usr/local/lib/python3.7/dist-packages (from yfinance) (1.19.5)\n",
            "Requirement already satisfied: requests>=2.20 in /usr/local/lib/python3.7/dist-packages (from yfinance) (2.23.0)\n",
            "Requirement already satisfied: multitasking>=0.0.7 in /usr/local/lib/python3.7/dist-packages (from yfinance) (0.0.9)\n",
            "Collecting lxml>=4.5.1\n",
            "  Downloading lxml-4.6.3-cp37-cp37m-manylinux2014_x86_64.whl (6.3 MB)\n",
            "\u001b[K     |████████████████████████████████| 6.3 MB 8.2 MB/s \n",
            "\u001b[?25hRequirement already satisfied: python-dateutil>=2.7.3 in /usr/local/lib/python3.7/dist-packages (from pandas>=0.24->yfinance) (2.8.2)\n",
            "Requirement already satisfied: pytz>=2017.2 in /usr/local/lib/python3.7/dist-packages (from pandas>=0.24->yfinance) (2018.9)\n",
            "Requirement already satisfied: six>=1.5 in /usr/local/lib/python3.7/dist-packages (from python-dateutil>=2.7.3->pandas>=0.24->yfinance) (1.15.0)\n",
            "Requirement already satisfied: idna<3,>=2.5 in /usr/local/lib/python3.7/dist-packages (from requests>=2.20->yfinance) (2.10)\n",
            "Requirement already satisfied: urllib3!=1.25.0,!=1.25.1,<1.26,>=1.21.1 in /usr/local/lib/python3.7/dist-packages (from requests>=2.20->yfinance) (1.24.3)\n",
            "Requirement already satisfied: certifi>=2017.4.17 in /usr/local/lib/python3.7/dist-packages (from requests>=2.20->yfinance) (2021.5.30)\n",
            "Requirement already satisfied: chardet<4,>=3.0.2 in /usr/local/lib/python3.7/dist-packages (from requests>=2.20->yfinance) (3.0.4)\n",
            "Building wheels for collected packages: yfinance\n",
            "  Building wheel for yfinance (setup.py) ... \u001b[?25l\u001b[?25hdone\n",
            "  Created wheel for yfinance: filename=yfinance-0.1.64-py2.py3-none-any.whl size=24109 sha256=a0fe8e52049cba3a04870fd9992549676626402312f1cd2d407573155fc7e2e2\n",
            "  Stored in directory: /root/.cache/pip/wheels/86/fe/9b/a4d3d78796b699e37065e5b6c27b75cff448ddb8b24943c288\n",
            "Successfully built yfinance\n",
            "Installing collected packages: lxml, yfinance\n",
            "  Attempting uninstall: lxml\n",
            "    Found existing installation: lxml 4.2.6\n",
            "    Uninstalling lxml-4.2.6:\n",
            "      Successfully uninstalled lxml-4.2.6\n",
            "Successfully installed lxml-4.6.3 yfinance-0.1.64\n"
          ]
        }
      ]
    },
    {
      "cell_type": "code",
      "metadata": {
        "id": "ljS5mNJyFu2W"
      },
      "source": [
        "# import the libraries\n",
        "import math\n",
        "import pandas_datareader as web\n",
        "import numpy as np\n",
        "from sklearn.preprocessing import MinMaxScaler\n",
        "from keras.models import Sequential\n",
        "from keras.layers import Dense, LSTM\n",
        "import matplotlib.pyplot as plt\n",
        "plt.style.use('fivethirtyeight')\n",
        "import yfinance as yf"
      ],
      "execution_count": 14,
      "outputs": []
    },
    {
      "cell_type": "code",
      "metadata": {
        "colab": {
          "base_uri": "https://localhost:8080/"
        },
        "id": "_S3qyq9xGP7c",
        "outputId": "ccdb0971-b4a9-4d34-b58e-c53f81381db5"
      },
      "source": [
        "# Get the stock quote\n",
        "AAPL = yf.Ticker(\"AAPL\")\n",
        "\n",
        "# get stock info\n",
        "AAPL.info\n"
      ],
      "execution_count": 7,
      "outputs": [
        {
          "output_type": "execute_result",
          "data": {
            "text/plain": [
              "{'52WeekChange': 0.28518355,\n",
              " 'SandP52WeekChange': 0.3087138,\n",
              " 'address1': 'One Apple Park Way',\n",
              " 'algorithm': None,\n",
              " 'annualHoldingsTurnover': None,\n",
              " 'annualReportExpenseRatio': None,\n",
              " 'ask': 0,\n",
              " 'askSize': 2200,\n",
              " 'averageDailyVolume10Day': 73715885,\n",
              " 'averageVolume': 76543137,\n",
              " 'averageVolume10days': 73715885,\n",
              " 'beta': 1.222222,\n",
              " 'beta3Year': None,\n",
              " 'bid': 0,\n",
              " 'bidSize': 900,\n",
              " 'bookValue': 3.882,\n",
              " 'category': None,\n",
              " 'circulatingSupply': None,\n",
              " 'city': 'Cupertino',\n",
              " 'companyOfficers': [],\n",
              " 'country': 'United States',\n",
              " 'currency': 'USD',\n",
              " 'currentPrice': 149.26,\n",
              " 'currentRatio': 1.062,\n",
              " 'dateShortInterest': 1632960000,\n",
              " 'dayHigh': 149.7522,\n",
              " 'dayLow': 148.12,\n",
              " 'debtToEquity': 210.782,\n",
              " 'dividendRate': 0.88,\n",
              " 'dividendYield': 0.0058999998,\n",
              " 'earningsGrowth': 1,\n",
              " 'earningsQuarterlyGrowth': 0.932,\n",
              " 'ebitda': 110934999040,\n",
              " 'ebitdaMargins': 0.31955,\n",
              " 'enterpriseToEbitda': 22.832,\n",
              " 'enterpriseToRevenue': 7.296,\n",
              " 'enterpriseValue': 2532822482944,\n",
              " 'exDividendDate': 1628208000,\n",
              " 'exchange': 'NMS',\n",
              " 'exchangeTimezoneName': 'America/New_York',\n",
              " 'exchangeTimezoneShortName': 'EDT',\n",
              " 'expireDate': None,\n",
              " 'fiftyDayAverage': 146.31352,\n",
              " 'fiftyTwoWeekHigh': 157.26,\n",
              " 'fiftyTwoWeekLow': 107.32,\n",
              " 'financialCurrency': 'USD',\n",
              " 'fiveYearAverageReturn': None,\n",
              " 'fiveYearAvgDividendYield': 1.24,\n",
              " 'floatShares': 16512974627,\n",
              " 'forwardEps': 5.67,\n",
              " 'forwardPE': 26.324514,\n",
              " 'freeCashflow': 80625876992,\n",
              " 'fromCurrency': None,\n",
              " 'fullTimeEmployees': 147000,\n",
              " 'fundFamily': None,\n",
              " 'fundInceptionDate': None,\n",
              " 'gmtOffSetMilliseconds': '-14400000',\n",
              " 'grossMargins': 0.41005,\n",
              " 'grossProfits': 104956000000,\n",
              " 'heldPercentInsiders': 0.00072999997,\n",
              " 'heldPercentInstitutions': 0.58676,\n",
              " 'impliedSharesOutstanding': None,\n",
              " 'industry': 'Consumer Electronics',\n",
              " 'isEsgPopulated': False,\n",
              " 'lastCapGain': None,\n",
              " 'lastDividendDate': 1628208000,\n",
              " 'lastDividendValue': 0.22,\n",
              " 'lastFiscalYearEnd': 1601078400,\n",
              " 'lastMarket': None,\n",
              " 'lastSplitDate': 1598832000,\n",
              " 'lastSplitFactor': '4:1',\n",
              " 'legalType': None,\n",
              " 'logo_url': 'https://logo.clearbit.com/apple.com',\n",
              " 'longBusinessSummary': 'Apple Inc. designs, manufactures, and markets smartphones, personal computers, tablets, wearables, and accessories worldwide. It also sells various related services. The company offers iPhone, a line of smartphones; Mac, a line of personal computers; iPad, a line of multi-purpose tablets; and wearables, home, and accessories comprising AirPods, Apple TV, Apple Watch, Beats products, HomePod, iPod touch, and other Apple-branded and third-party accessories. It also provides AppleCare support services; cloud services store services; and operates various platforms, including the App Store, that allow customers to discover and download applications and digital content, such as books, music, video, games, and podcasts. In addition, the company offers various services, such as Apple Arcade, a game subscription service; Apple Music, which offers users a curated listening experience with on-demand radio stations; Apple News+, a subscription news and magazine service; Apple TV+, which offers exclusive original content; Apple Card, a co-branded credit card; and Apple Pay, a cashless payment service, as well as licenses its intellectual property. The company serves consumers, and small and mid-sized businesses; and the education, enterprise, and government markets. It sells and delivers third-party applications for its products through the App Store. The company also sells its products through its retail and online stores, and direct sales force; and third-party cellular network carriers, wholesalers, retailers, and resellers. Apple Inc. was founded in 1977 and is headquartered in Cupertino, California.',\n",
              " 'longName': 'Apple Inc.',\n",
              " 'market': 'us_market',\n",
              " 'marketCap': 2467297492992,\n",
              " 'maxAge': 1,\n",
              " 'maxSupply': None,\n",
              " 'messageBoardId': 'finmb_24937',\n",
              " 'morningStarOverallRating': None,\n",
              " 'morningStarRiskRating': None,\n",
              " 'mostRecentQuarter': 1624665600,\n",
              " 'navPrice': None,\n",
              " 'netIncomeToCommon': 86801997824,\n",
              " 'nextFiscalYearEnd': 1664150400,\n",
              " 'numberOfAnalystOpinions': 41,\n",
              " 'open': 148.7,\n",
              " 'openInterest': None,\n",
              " 'operatingCashflow': 104414003200,\n",
              " 'operatingMargins': 0.28788,\n",
              " 'payoutRatio': 0.16309999,\n",
              " 'pegRatio': 1.38,\n",
              " 'phone': '408-996-1010',\n",
              " 'preMarketPrice': 148.92,\n",
              " 'previousClose': 148.76,\n",
              " 'priceHint': 2,\n",
              " 'priceToBook': 38.449253,\n",
              " 'priceToSalesTrailing12Months': 7.1071925,\n",
              " 'profitMargins': 0.25004,\n",
              " 'quickRatio': 0.887,\n",
              " 'quoteType': 'EQUITY',\n",
              " 'recommendationKey': 'buy',\n",
              " 'recommendationMean': 1.9,\n",
              " 'regularMarketDayHigh': 149.7522,\n",
              " 'regularMarketDayLow': 148.12,\n",
              " 'regularMarketOpen': 148.7,\n",
              " 'regularMarketPreviousClose': 148.76,\n",
              " 'regularMarketPrice': 149.26,\n",
              " 'regularMarketVolume': 58418788,\n",
              " 'returnOnAssets': 0.19302,\n",
              " 'returnOnEquity': 1.27125,\n",
              " 'revenueGrowth': 0.364,\n",
              " 'revenuePerShare': 20.61,\n",
              " 'revenueQuarterlyGrowth': None,\n",
              " 'sector': 'Technology',\n",
              " 'sharesOutstanding': 16530199552,\n",
              " 'sharesPercentSharesOut': 0.0061000003,\n",
              " 'sharesShort': 101107412,\n",
              " 'sharesShortPreviousMonthDate': 1630368000,\n",
              " 'sharesShortPriorMonth': 96838699,\n",
              " 'shortName': 'Apple Inc.',\n",
              " 'shortPercentOfFloat': 0.0061000003,\n",
              " 'shortRatio': 1.18,\n",
              " 'startDate': None,\n",
              " 'state': 'CA',\n",
              " 'strikePrice': None,\n",
              " 'symbol': 'AAPL',\n",
              " 'targetHighPrice': 190,\n",
              " 'targetLowPrice': 132,\n",
              " 'targetMeanPrice': 168.35,\n",
              " 'targetMedianPrice': 170,\n",
              " 'threeYearAverageReturn': None,\n",
              " 'toCurrency': None,\n",
              " 'totalAssets': None,\n",
              " 'totalCash': 61696000000,\n",
              " 'totalCashPerShare': 3.732,\n",
              " 'totalDebt': 135491002368,\n",
              " 'totalRevenue': 347155005440,\n",
              " 'tradeable': False,\n",
              " 'trailingAnnualDividendRate': 0.835,\n",
              " 'trailingAnnualDividendYield': 0.005613068,\n",
              " 'trailingEps': 5.108,\n",
              " 'trailingPE': 29.22083,\n",
              " 'twoHundredDayAverage': 139.00964,\n",
              " 'volume': 58418788,\n",
              " 'volume24Hr': None,\n",
              " 'volumeAllCurrencies': None,\n",
              " 'website': 'http://www.apple.com',\n",
              " 'yield': None,\n",
              " 'ytdReturn': None,\n",
              " 'zip': '95014'}"
            ]
          },
          "metadata": {},
          "execution_count": 7
        }
      ]
    },
    {
      "cell_type": "code",
      "metadata": {
        "colab": {
          "base_uri": "https://localhost:8080/"
        },
        "id": "fSB8Of0ZGrFM",
        "outputId": "51ca3ae5-43ad-48ff-9cad-62df79fe89f0"
      },
      "source": [
        "# get historical market data\n",
        "\n",
        "df = yf.download(\"AAPL\", start=\"2012-01-01\", end=\"2019-12-17\")"
      ],
      "execution_count": 8,
      "outputs": [
        {
          "output_type": "stream",
          "name": "stdout",
          "text": [
            "\r[*********************100%***********************]  1 of 1 completed\n"
          ]
        }
      ]
    },
    {
      "cell_type": "code",
      "metadata": {
        "colab": {
          "base_uri": "https://localhost:8080/",
          "height": 455
        },
        "id": "SiYoZukmKcLx",
        "outputId": "2239eecf-b160-4177-f52d-4c3225600def"
      },
      "source": [
        "# Vizualise the dataframe\n",
        "df"
      ],
      "execution_count": 9,
      "outputs": [
        {
          "output_type": "execute_result",
          "data": {
            "text/html": [
              "<div>\n",
              "<style scoped>\n",
              "    .dataframe tbody tr th:only-of-type {\n",
              "        vertical-align: middle;\n",
              "    }\n",
              "\n",
              "    .dataframe tbody tr th {\n",
              "        vertical-align: top;\n",
              "    }\n",
              "\n",
              "    .dataframe thead th {\n",
              "        text-align: right;\n",
              "    }\n",
              "</style>\n",
              "<table border=\"1\" class=\"dataframe\">\n",
              "  <thead>\n",
              "    <tr style=\"text-align: right;\">\n",
              "      <th></th>\n",
              "      <th>Open</th>\n",
              "      <th>High</th>\n",
              "      <th>Low</th>\n",
              "      <th>Close</th>\n",
              "      <th>Adj Close</th>\n",
              "      <th>Volume</th>\n",
              "    </tr>\n",
              "    <tr>\n",
              "      <th>Date</th>\n",
              "      <th></th>\n",
              "      <th></th>\n",
              "      <th></th>\n",
              "      <th></th>\n",
              "      <th></th>\n",
              "      <th></th>\n",
              "    </tr>\n",
              "  </thead>\n",
              "  <tbody>\n",
              "    <tr>\n",
              "      <th>2012-01-03</th>\n",
              "      <td>14.621429</td>\n",
              "      <td>14.732143</td>\n",
              "      <td>14.607143</td>\n",
              "      <td>14.686786</td>\n",
              "      <td>12.610316</td>\n",
              "      <td>302220800</td>\n",
              "    </tr>\n",
              "    <tr>\n",
              "      <th>2012-01-04</th>\n",
              "      <td>14.642857</td>\n",
              "      <td>14.810000</td>\n",
              "      <td>14.617143</td>\n",
              "      <td>14.765714</td>\n",
              "      <td>12.678085</td>\n",
              "      <td>260022000</td>\n",
              "    </tr>\n",
              "    <tr>\n",
              "      <th>2012-01-05</th>\n",
              "      <td>14.819643</td>\n",
              "      <td>14.948214</td>\n",
              "      <td>14.738214</td>\n",
              "      <td>14.929643</td>\n",
              "      <td>12.818833</td>\n",
              "      <td>271269600</td>\n",
              "    </tr>\n",
              "    <tr>\n",
              "      <th>2012-01-06</th>\n",
              "      <td>14.991786</td>\n",
              "      <td>15.098214</td>\n",
              "      <td>14.972143</td>\n",
              "      <td>15.085714</td>\n",
              "      <td>12.952841</td>\n",
              "      <td>318292800</td>\n",
              "    </tr>\n",
              "    <tr>\n",
              "      <th>2012-01-09</th>\n",
              "      <td>15.196429</td>\n",
              "      <td>15.276786</td>\n",
              "      <td>15.048214</td>\n",
              "      <td>15.061786</td>\n",
              "      <td>12.932296</td>\n",
              "      <td>394024400</td>\n",
              "    </tr>\n",
              "    <tr>\n",
              "      <th>...</th>\n",
              "      <td>...</td>\n",
              "      <td>...</td>\n",
              "      <td>...</td>\n",
              "      <td>...</td>\n",
              "      <td>...</td>\n",
              "      <td>...</td>\n",
              "    </tr>\n",
              "    <tr>\n",
              "      <th>2019-12-10</th>\n",
              "      <td>67.150002</td>\n",
              "      <td>67.517502</td>\n",
              "      <td>66.464996</td>\n",
              "      <td>67.120003</td>\n",
              "      <td>66.234123</td>\n",
              "      <td>90420400</td>\n",
              "    </tr>\n",
              "    <tr>\n",
              "      <th>2019-12-11</th>\n",
              "      <td>67.202499</td>\n",
              "      <td>67.775002</td>\n",
              "      <td>67.125000</td>\n",
              "      <td>67.692497</td>\n",
              "      <td>66.799065</td>\n",
              "      <td>78756800</td>\n",
              "    </tr>\n",
              "    <tr>\n",
              "      <th>2019-12-12</th>\n",
              "      <td>66.945000</td>\n",
              "      <td>68.139999</td>\n",
              "      <td>66.830002</td>\n",
              "      <td>67.864998</td>\n",
              "      <td>66.969284</td>\n",
              "      <td>137310400</td>\n",
              "    </tr>\n",
              "    <tr>\n",
              "      <th>2019-12-13</th>\n",
              "      <td>67.864998</td>\n",
              "      <td>68.824997</td>\n",
              "      <td>67.732498</td>\n",
              "      <td>68.787498</td>\n",
              "      <td>67.879616</td>\n",
              "      <td>133587600</td>\n",
              "    </tr>\n",
              "    <tr>\n",
              "      <th>2019-12-16</th>\n",
              "      <td>69.250000</td>\n",
              "      <td>70.197502</td>\n",
              "      <td>69.245003</td>\n",
              "      <td>69.964996</td>\n",
              "      <td>69.041550</td>\n",
              "      <td>128186000</td>\n",
              "    </tr>\n",
              "  </tbody>\n",
              "</table>\n",
              "<p>2002 rows × 6 columns</p>\n",
              "</div>"
            ],
            "text/plain": [
              "                 Open       High        Low      Close  Adj Close     Volume\n",
              "Date                                                                        \n",
              "2012-01-03  14.621429  14.732143  14.607143  14.686786  12.610316  302220800\n",
              "2012-01-04  14.642857  14.810000  14.617143  14.765714  12.678085  260022000\n",
              "2012-01-05  14.819643  14.948214  14.738214  14.929643  12.818833  271269600\n",
              "2012-01-06  14.991786  15.098214  14.972143  15.085714  12.952841  318292800\n",
              "2012-01-09  15.196429  15.276786  15.048214  15.061786  12.932296  394024400\n",
              "...               ...        ...        ...        ...        ...        ...\n",
              "2019-12-10  67.150002  67.517502  66.464996  67.120003  66.234123   90420400\n",
              "2019-12-11  67.202499  67.775002  67.125000  67.692497  66.799065   78756800\n",
              "2019-12-12  66.945000  68.139999  66.830002  67.864998  66.969284  137310400\n",
              "2019-12-13  67.864998  68.824997  67.732498  68.787498  67.879616  133587600\n",
              "2019-12-16  69.250000  70.197502  69.245003  69.964996  69.041550  128186000\n",
              "\n",
              "[2002 rows x 6 columns]"
            ]
          },
          "metadata": {},
          "execution_count": 9
        }
      ]
    },
    {
      "cell_type": "code",
      "metadata": {
        "colab": {
          "base_uri": "https://localhost:8080/"
        },
        "id": "a-FJ5V1SKkVv",
        "outputId": "698542f4-cc84-4aff-fc5c-c4dc6c4250d8"
      },
      "source": [
        "# Get the number of raw and columns\n",
        "df.shape"
      ],
      "execution_count": 10,
      "outputs": [
        {
          "output_type": "execute_result",
          "data": {
            "text/plain": [
              "(2002, 6)"
            ]
          },
          "metadata": {},
          "execution_count": 10
        }
      ]
    },
    {
      "cell_type": "code",
      "metadata": {
        "colab": {
          "base_uri": "https://localhost:8080/",
          "height": 338
        },
        "id": "a5cZYVVvK1tP",
        "outputId": "a7feb8ab-39cd-4410-f88b-a24c3b75f9e7"
      },
      "source": [
        "# Vizualise the closing price history\n",
        "plt.figure(figsize=(16,8))\n",
        "plt.title(\"Close Price History\")\n",
        "plt.plot(df['Close'])\n",
        "plt.xlabel('Date', fontsize=18)\n",
        "plt.ylabel('Close Price USD($)', fontsize=18 )\n",
        "plt.show()"
      ],
      "execution_count": 11,
      "outputs": [
        {
          "output_type": "display_data",
          "data": {
            "image/png": "[encoded data removed]",
            "text/plain": [
              "<Figure size 1152x576 with 1 Axes>"
            ]
          },
          "metadata": {}
        }
      ]
    },
    {
      "cell_type": "code",
      "metadata": {
        "colab": {
          "base_uri": "https://localhost:8080/"
        },
        "id": "yNjgnJUkLdRE",
        "outputId": "ba542f5a-1230-403b-dc97-72c3d0ec2eb8"
      },
      "source": [
        "# Create a new dataframe only with \"Close\" Column\n",
        "data = df.filter(['Close'])\n",
        "#Convert the dataframe to a numpy array \n",
        "dataset = data.values\n",
        "# Get the number of rows to train the model on \n",
        "training_data_len = math.ceil(len(dataset)* .8) # math.ceil to round the value\n",
        "\n",
        "training_data_len  "
      ],
      "execution_count": 12,
      "outputs": [
        {
          "output_type": "execute_result",
          "data": {
            "text/plain": [
              "1602"
            ]
          },
          "metadata": {},
          "execution_count": 12
        }
      ]
    },
    {
      "cell_type": "code",
      "metadata": {
        "colab": {
          "base_uri": "https://localhost:8080/"
        },
        "id": "iOWG_r5UOu1H",
        "outputId": "684cd54a-b5b5-4f81-d150-dc69f451742d"
      },
      "source": [
        "#Scale the data\n",
        "scaler = MinMaxScaler(feature_range=(0,1))\n",
        "scaled_data = scaler.fit_transform(dataset)\n",
        "\n",
        "scaled_data"
      ],
      "execution_count": 13,
      "outputs": [
        {
          "output_type": "execute_result",
          "data": {
            "text/plain": [
              "array([[0.0131974 ],\n",
              "       [0.01460639],\n",
              "       [0.01753278],\n",
              "       ...,\n",
              "       [0.96251174],\n",
              "       [0.97897982],\n",
              "       [1.        ]])"
            ]
          },
          "metadata": {},
          "execution_count": 13
        }
      ]
    },
    {
      "cell_type": "code",
      "metadata": {
        "colab": {
          "base_uri": "https://localhost:8080/"
        },
        "id": "sXTSZZ9GPWU7",
        "outputId": "8c104fdf-733c-4f3c-e57c-45353360b188"
      },
      "source": [
        "# Create the training data set\n",
        "#Create the scaled training data set\n",
        "train_data = scaled_data[0:training_data_len, :]\n",
        "# Split the data into x_train and y_train data sets\n",
        "X_train = []\n",
        "y_train = []\n",
        "\n",
        "for i in range (60, len(train_data)):\n",
        "  X_train.append(train_data[i-60:i, 0])\n",
        "  y_train.append(train_data[i, 0])\n",
        "  if i<= 61:\n",
        "    print(X_train)\n",
        "    print(y_train)\n",
        "    print()"
      ],
      "execution_count": 16,
      "outputs": [
        {
          "output_type": "stream",
          "name": "stdout",
          "text": [
            "[array([0.0131974 , 0.01460639, 0.01753278, 0.0203189 , 0.01989174,\n",
            "       0.02085445, 0.02041453, 0.01967497, 0.01866762, 0.02178528,\n",
            "       0.02459691, 0.02372983, 0.01898002, 0.02351306, 0.01905016,\n",
            "       0.03578601, 0.03449178, 0.0361813 , 0.03983449, 0.0420468 ,\n",
            "       0.04186191, 0.04117973, 0.04408699, 0.04682209, 0.04992063,\n",
            "       0.05492545, 0.06543874, 0.06559812, 0.0714509 , 0.07582451,\n",
            "       0.06830775, 0.07120224, 0.07114487, 0.07926096, 0.07810697,\n",
            "       0.08024277, 0.08408086, 0.08621669, 0.0923691 , 0.0968511 ,\n",
            "       0.09814534, 0.09859802, 0.09093461, 0.08908567, 0.08935984,\n",
            "       0.09656423, 0.09859166, 0.10294617, 0.1132108 , 0.12690551,\n",
            "       0.12434252, 0.12434889, 0.13425015, 0.13734869, 0.13514271,\n",
            "       0.13312806, 0.13103049, 0.13799896, 0.14278065, 0.14478257])]\n",
            "[0.139835129205152]\n",
            "\n",
            "[array([0.0131974 , 0.01460639, 0.01753278, 0.0203189 , 0.01989174,\n",
            "       0.02085445, 0.02041453, 0.01967497, 0.01866762, 0.02178528,\n",
            "       0.02459691, 0.02372983, 0.01898002, 0.02351306, 0.01905016,\n",
            "       0.03578601, 0.03449178, 0.0361813 , 0.03983449, 0.0420468 ,\n",
            "       0.04186191, 0.04117973, 0.04408699, 0.04682209, 0.04992063,\n",
            "       0.05492545, 0.06543874, 0.06559812, 0.0714509 , 0.07582451,\n",
            "       0.06830775, 0.07120224, 0.07114487, 0.07926096, 0.07810697,\n",
            "       0.08024277, 0.08408086, 0.08621669, 0.0923691 , 0.0968511 ,\n",
            "       0.09814534, 0.09859802, 0.09093461, 0.08908567, 0.08935984,\n",
            "       0.09656423, 0.09859166, 0.10294617, 0.1132108 , 0.12690551,\n",
            "       0.12434252, 0.12434889, 0.13425015, 0.13734869, 0.13514271,\n",
            "       0.13312806, 0.13103049, 0.13799896, 0.14278065, 0.14478257]), array([0.01460639, 0.01753278, 0.0203189 , 0.01989174, 0.02085445,\n",
            "       0.02041453, 0.01967497, 0.01866762, 0.02178528, 0.02459691,\n",
            "       0.02372983, 0.01898002, 0.02351306, 0.01905016, 0.03578601,\n",
            "       0.03449178, 0.0361813 , 0.03983449, 0.0420468 , 0.04186191,\n",
            "       0.04117973, 0.04408699, 0.04682209, 0.04992063, 0.05492545,\n",
            "       0.06543874, 0.06559812, 0.0714509 , 0.07582451, 0.06830775,\n",
            "       0.07120224, 0.07114487, 0.07926096, 0.07810697, 0.08024277,\n",
            "       0.08408086, 0.08621669, 0.0923691 , 0.0968511 , 0.09814534,\n",
            "       0.09859802, 0.09093461, 0.08908567, 0.08935984, 0.09656423,\n",
            "       0.09859166, 0.10294617, 0.1132108 , 0.12690551, 0.12434252,\n",
            "       0.12434889, 0.13425015, 0.13734869, 0.13514271, 0.13312806,\n",
            "       0.13103049, 0.13799896, 0.14278065, 0.14478257, 0.13983513])]\n",
            "[0.139835129205152, 0.13326193905670414]\n",
            "\n"
          ]
        }
      ]
    },
    {
      "cell_type": "code",
      "metadata": {
        "id": "rmRuIsCvRQfJ"
      },
      "source": [
        "# Convert the X_train and y_train to numpy arrays\n",
        "X_train, y_train = np.array(X_train), np.array(y_train)\n"
      ],
      "execution_count": 17,
      "outputs": []
    },
    {
      "cell_type": "code",
      "metadata": {
        "colab": {
          "base_uri": "https://localhost:8080/"
        },
        "id": "B568sijjU7Rr",
        "outputId": "9bd3201f-a1e4-4afb-8422-69c873cd72a5"
      },
      "source": [
        "# Reshape the data\n",
        "X_train = np.reshape(X_train, (X_train.shape[0], X_train.shape[1], 1)) # 1 correspond to the Features closing price\n",
        "X_train.shape "
      ],
      "execution_count": 19,
      "outputs": [
        {
          "output_type": "execute_result",
          "data": {
            "text/plain": [
              "(1542, 60, 1)"
            ]
          },
          "metadata": {},
          "execution_count": 19
        }
      ]
    },
    {
      "cell_type": "code",
      "metadata": {
        "id": "2WCVGws6Vnrh"
      },
      "source": [
        "#Build the LSTM model\n",
        "model = Sequential()\n",
        "model.add(LSTM(50, return_sequences=True, input_shape= (X_train.shape[1],1)))\n",
        "model.add(LSTM(50, return_sequences=False))\n",
        "model.add(Dense(25))\n",
        "model.add(Dense(1))"
      ],
      "execution_count": 21,
      "outputs": []
    },
    {
      "cell_type": "code",
      "metadata": {
        "id": "o0nnDXDCZwom"
      },
      "source": [
        "# Compile the model\n",
        "model.compile(optimizer='adam', loss='mean_squared_error')\n"
      ],
      "execution_count": 22,
      "outputs": []
    },
    {
      "cell_type": "code",
      "metadata": {
        "colab": {
          "base_uri": "https://localhost:8080/"
        },
        "id": "p9tS6A-BaMqk",
        "outputId": "2265594c-9b15-45af-a008-213343d36a94"
      },
      "source": [
        "# Train the model\n",
        "model.fit(X_train, y_train, batch_size=1, epochs=1)"
      ],
      "execution_count": 23,
      "outputs": [
        {
          "output_type": "stream",
          "name": "stdout",
          "text": [
            "1542/1542 [==============================] - 42s 25ms/step - loss: 6.8983e-04\n"
          ]
        },
        {
          "output_type": "execute_result",
          "data": {
            "text/plain": [
              "<keras.callbacks.History at 0x7f4c0e6d0e50>"
            ]
          },
          "metadata": {},
          "execution_count": 23
        }
      ]
    },
    {
      "cell_type": "code",
      "metadata": {
        "id": "khP0d-dsaZKu"
      },
      "source": [
        "# Create the testing data set\n",
        "# Create a new arrays containing scaled values from index 1542 to 2002\n",
        "test_data = scaled_data[training_data_len -60: , :]\n",
        "#Create the data sets X_test and y_test \n",
        "X_test = []\n",
        "y_test = dataset[training_data_len:, :]\n",
        "for i in range(60, len(test_data)):\n",
        "  X_test.append(test_data[i-60:i, 0])"
      ],
      "execution_count": 25,
      "outputs": []
    },
    {
      "cell_type": "code",
      "metadata": {
        "id": "-xHtF4hybsFZ"
      },
      "source": [
        "# Convert data to a numpy array\n",
        "X_test = np.array(X_test) "
      ],
      "execution_count": 26,
      "outputs": []
    },
    {
      "cell_type": "code",
      "metadata": {
        "id": "dhhPCuE7b7zh"
      },
      "source": [
        "# Reshape the data\n",
        "X_test = np.reshape(X_test, (X_test.shape[0], X_test.shape[1], 1))"
      ],
      "execution_count": 27,
      "outputs": []
    },
    {
      "cell_type": "code",
      "metadata": {
        "id": "5V_jMUp_cX20"
      },
      "source": [
        "# Get the models predicted price values\n",
        "predictions = model.predict(X_test)\n",
        "#Inverse transform the data \n",
        "predictions = scaler.inverse_transform(predictions) # predictions to contain the same value that our y dataset contains \n"
      ],
      "execution_count": 28,
      "outputs": []
    },
    {
      "cell_type": "code",
      "metadata": {
        "colab": {
          "base_uri": "https://localhost:8080/"
        },
        "id": "2lj8sVmGmm0R",
        "outputId": "ef12f671-a070-4ecb-fc0c-843d476b96c6"
      },
      "source": [
        "# Get the root mean squared error (RMSE) : how accurate the model predicts the response\n",
        "rmse = np.sqrt( np.mean( predictions - y_test)**2 )\n",
        "rmse"
      ],
      "execution_count": 33,
      "outputs": [
        {
          "output_type": "execute_result",
          "data": {
            "text/plain": [
              "0.447880802154541"
            ]
          },
          "metadata": {},
          "execution_count": 33
        }
      ]
    },
    {
      "cell_type": "code",
      "metadata": {
        "colab": {
          "base_uri": "https://localhost:8080/",
          "height": 469
        },
        "id": "Fk3AGKtWm7IB",
        "outputId": "7e2ea6e5-cedd-43a7-84e7-b6c7a8922b1e"
      },
      "source": [
        "# Plot the data \n",
        "train = data[:training_data_len] # from index to training_data_len\n",
        "valid = data[training_data_len:]\n",
        "valid['Predictions'] = predictions\n",
        "#Visualize the data \n",
        "plt.figure(figsize=(16,8))\n",
        "plt.title('Model')\n",
        "plt.xlabel('Date', fontsize=18)\n",
        "plt.ylabel('Close Price USD ($)', fontsize=18)\n",
        "plt.plot(train[\"Close\"])\n",
        "plt.plot(valid[[\"Close\", \"Predictions\"]])\n",
        "plt.legend(['Train', 'Val', 'Predictions'], loc='lower right')\n",
        "plt.show()"
      ],
      "execution_count": 35,
      "outputs": [
        {
          "output_type": "stream",
          "name": "stderr",
          "text": [
            "/usr/local/lib/python3.7/dist-packages/ipykernel_launcher.py:4: SettingWithCopyWarning: \n",
            "A value is trying to be set on a copy of a slice from a DataFrame.\n",
            "Try using .loc[row_indexer,col_indexer] = value instead\n",
            "\n",
            "See the caveats in the documentation: https://pandas.pydata.org/pandas-docs/stable/user_guide/indexing.html#returning-a-view-versus-a-copy\n",
            "  after removing the cwd from sys.path.\n"
          ]
        },
        {
          "output_type": "display_data",
          "data": {
            "image/png": "[encoded data removed]",
            "text/plain": [
              "<Figure size 1152x576 with 1 Axes>"
            ]
          },
          "metadata": {}
        }
      ]
    },
    {
      "cell_type": "code",
      "metadata": {
        "colab": {
          "base_uri": "https://localhost:8080/",
          "height": 455
        },
        "id": "I0C9q0U-uDFZ",
        "outputId": "4e040c8e-368f-4772-9191-f3e06377c33c"
      },
      "source": [
        "#Show the valid and predicted prices\n",
        "valid"
      ],
      "execution_count": 36,
      "outputs": [
        {
          "output_type": "execute_result",
          "data": {
            "text/html": [
              "<div>\n",
              "<style scoped>\n",
              "    .dataframe tbody tr th:only-of-type {\n",
              "        vertical-align: middle;\n",
              "    }\n",
              "\n",
              "    .dataframe tbody tr th {\n",
              "        vertical-align: top;\n",
              "    }\n",
              "\n",
              "    .dataframe thead th {\n",
              "        text-align: right;\n",
              "    }\n",
              "</style>\n",
              "<table border=\"1\" class=\"dataframe\">\n",
              "  <thead>\n",
              "    <tr style=\"text-align: right;\">\n",
              "      <th></th>\n",
              "      <th>Close</th>\n",
              "      <th>Predictions</th>\n",
              "    </tr>\n",
              "    <tr>\n",
              "      <th>Date</th>\n",
              "      <th></th>\n",
              "      <th></th>\n",
              "    </tr>\n",
              "  </thead>\n",
              "  <tbody>\n",
              "    <tr>\n",
              "      <th>2018-05-16</th>\n",
              "      <td>47.044998</td>\n",
              "      <td>46.745850</td>\n",
              "    </tr>\n",
              "    <tr>\n",
              "      <th>2018-05-17</th>\n",
              "      <td>46.747501</td>\n",
              "      <td>46.774750</td>\n",
              "    </tr>\n",
              "    <tr>\n",
              "      <th>2018-05-18</th>\n",
              "      <td>46.577499</td>\n",
              "      <td>46.738998</td>\n",
              "    </tr>\n",
              "    <tr>\n",
              "      <th>2018-05-21</th>\n",
              "      <td>46.907501</td>\n",
              "      <td>46.656239</td>\n",
              "    </tr>\n",
              "    <tr>\n",
              "      <th>2018-05-22</th>\n",
              "      <td>46.790001</td>\n",
              "      <td>46.621239</td>\n",
              "    </tr>\n",
              "    <tr>\n",
              "      <th>...</th>\n",
              "      <td>...</td>\n",
              "      <td>...</td>\n",
              "    </tr>\n",
              "    <tr>\n",
              "      <th>2019-12-10</th>\n",
              "      <td>67.120003</td>\n",
              "      <td>65.138344</td>\n",
              "    </tr>\n",
              "    <tr>\n",
              "      <th>2019-12-11</th>\n",
              "      <td>67.692497</td>\n",
              "      <td>65.341141</td>\n",
              "    </tr>\n",
              "    <tr>\n",
              "      <th>2019-12-12</th>\n",
              "      <td>67.864998</td>\n",
              "      <td>65.600861</td>\n",
              "    </tr>\n",
              "    <tr>\n",
              "      <th>2019-12-13</th>\n",
              "      <td>68.787498</td>\n",
              "      <td>65.860886</td>\n",
              "    </tr>\n",
              "    <tr>\n",
              "      <th>2019-12-16</th>\n",
              "      <td>69.964996</td>\n",
              "      <td>66.227722</td>\n",
              "    </tr>\n",
              "  </tbody>\n",
              "</table>\n",
              "<p>400 rows × 2 columns</p>\n",
              "</div>"
            ],
            "text/plain": [
              "                Close  Predictions\n",
              "Date                              \n",
              "2018-05-16  47.044998    46.745850\n",
              "2018-05-17  46.747501    46.774750\n",
              "2018-05-18  46.577499    46.738998\n",
              "2018-05-21  46.907501    46.656239\n",
              "2018-05-22  46.790001    46.621239\n",
              "...               ...          ...\n",
              "2019-12-10  67.120003    65.138344\n",
              "2019-12-11  67.692497    65.341141\n",
              "2019-12-12  67.864998    65.600861\n",
              "2019-12-13  68.787498    65.860886\n",
              "2019-12-16  69.964996    66.227722\n",
              "\n",
              "[400 rows x 2 columns]"
            ]
          },
          "metadata": {},
          "execution_count": 36
        }
      ]
    },
    {
      "cell_type": "code",
      "metadata": {
        "colab": {
          "base_uri": "https://localhost:8080/"
        },
        "id": "6auJsuuMufy_",
        "outputId": "370616c2-b1f0-4839-e573-3f3bea914e2c"
      },
      "source": [
        "# Predict the apple stock for 17 December 2019\n",
        "apple_quote = df\n",
        "\n",
        "# Create a new dataframe\n",
        "new_df = apple_quote.filter(['Close'])\n",
        "# GEt the last 60 day closing price values and convert the dataframe to an array\n",
        "last_60_days = new_df[-60:].values # contains the last 60 values\n",
        "#Scale the data to be values betwwen 0 and 1 \n",
        "last_60_days_scaled = scaler.transform(last_60_days)\n",
        "#Create an empty list\n",
        "x_test = []\n",
        "#Append the past 60 days\n",
        "x_test.append(last_60_days_scaled)\n",
        "# Convert the X_test data set to a numpy array\n",
        "x_test = np.array(x_test)\n",
        "#Reshape the data to be 3Dimensional\n",
        "x_test = np.reshape(x_test, (x_test.shape[0], x_test.shape[1], 1))\n",
        "#Get the predicted scaled price \n",
        "pred_price = model.predict(x_test)\n",
        "#undo the scalling \n",
        "pred_price = scaler.inverse_transform(pred_price)\n",
        "print(pred_price)\n"
      ],
      "execution_count": 37,
      "outputs": [
        {
          "output_type": "stream",
          "name": "stdout",
          "text": [
            "[[66.759125]]\n"
          ]
        }
      ]
    },
    {
      "cell_type": "code",
      "metadata": {
        "colab": {
          "base_uri": "https://localhost:8080/"
        },
        "id": "p7pVITHqyRqn",
        "outputId": "0894f54e-bd08-4fec-c0fe-41afbb2358c7"
      },
      "source": [
        "\n",
        "\n",
        "#Get the quote and show actual price on Dec 18 2019\n",
        "apple_quote2 = yf.download(\"AAPL\", data_source=\"yahoo\", start=\"2019-12-17\", end=\"2019-12-19\")\n",
        "print(apple_quote2['Close'])\n",
        "\n"
      ],
      "execution_count": 41,
      "outputs": [
        {
          "output_type": "stream",
          "name": "stdout",
          "text": [
            "\r[*********************100%***********************]  1 of 1 completed\n",
            "Date\n",
            "2019-12-17    70.102501\n",
            "2019-12-18    69.934998\n",
            "Name: Close, dtype: float64\n"
          ]
        }
      ]
    },
    {
      "cell_type": "code",
      "metadata": {
        "id": "wHW_4LGTy-K1"
      },
      "source": [
        ""
      ],
      "execution_count": null,
      "outputs": []
    }
  ]
}